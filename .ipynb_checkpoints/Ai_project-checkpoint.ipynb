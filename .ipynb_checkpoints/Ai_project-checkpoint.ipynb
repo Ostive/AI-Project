{
 "cells": [
  {
   "cell_type": "markdown",
   "id": "61fe35e3",
   "metadata": {},
   "source": [
    "# 1. Introduction\n",
    "\n",
    "HumanForYou is a pharmaceutical company based in India, employing around 4,000 individuals. The company experiences an annual employee turnover rate of approximately 15%, which poses significant operational challenges. The management seeks to leverage AI and data analytics to better understand and mitigate employee attrition."
   ]
  },
  {
   "cell_type": "markdown",
   "id": "a3cc2eef",
   "metadata": {},
   "source": [
    "# 2. Business Problem\n",
    "\n",
    "The high turnover rate negatively impacts the company in the following ways:\n",
    "\n",
    "- **Project Delays**: Departing employees cause disruptions in ongoing projects, leading to delays and affecting the company’s reputation.\n",
    "- **Increased HR Costs**: A substantial HR team is required to continuously recruit and train new employees.\n",
    "- **Productivity Loss**: New employees require training and adaptation time before becoming fully operational.\n",
    "\n",
    "To address these challenges, the company has enlisted a data analytics team to analyze key factors influencing employee attrition and recommend strategies to improve retention.\n"
   ]
  },
  {
   "cell_type": "markdown",
   "id": "adf2b1ec",
   "metadata": {},
   "source": [
    "# 3. Data provided by the Human Resources department"
   ]
  },
  {
   "cell_type": "markdown",
   "id": "7e2766f7",
   "metadata": {},
   "source": [
    "## 3.1 Data Human Resources department information regarding each employee"
   ]
  },
  {
   "cell_type": "markdown",
   "id": "4d3f1fd4",
   "metadata": {},
   "source": [
    "- **Age**: The employee’s age in 2015.\n",
    "- **Attrition**: The subject of our study - did the employee leave the company during 2016?\n",
    "- **BusinessTravel**: How often did the employee have to travel as part of their job in 2015?  \n",
    "  (Non-Travel = never, Travel_Rarely = rarely, Travel_Frequently = frequently)\n",
    "- **Department**:\n",
    "- **DistanceFromHome**: Distance in km between the employee’s home and the company.\n",
    "- **Education**: Education level:  \n",
    "  1 = Before College (Bac level equivalent)  \n",
    "  2 = College (Bac+2 equivalent)  \n",
    "  3 = Bachelor (Bac+3)  \n",
    "  4 = Master (Bac+5)  \n",
    "  5 = PhD (Doctoral thesis)\n",
    "- **EducationField**: Study field, main subject.\n",
    "- **EmployeeCount**: Boolean set to 1 if the employee was counted in the workforce in 2015.\n",
    "- **EmployeeId**: Employee identifier.\n",
    "- **Gender**: Employee’s gender.\n",
    "- **JobLevel**: Hierarchical level in the company from 1 to 5.\n",
    "- **JobRole**: Job role in the company.\n",
    "- **MaritalStatus**: Marital status of the employee (Single, Married, or Divorced).\n",
    "- **MonthlyIncome**: Gross wage per month, in rupees.\n",
    "- **NumCompaniesWorked**: Number of companies the employee has worked for before joining HumanForYou.\n",
    "- **Over18**: Is the employee over 18 years old or not?\n",
    "- **PercentSalaryHike**: Salary increase % in 2015.\n",
    "- **StandardHours**: Number of working hours per day in the employee’s contract.\n",
    "- **StockOptionLevel**: Level of investment in company shares by the employee.\n",
    "- **TotalWorkingYears**: Number of years the employee has worked for the company in the same type of position.\n",
    "- **TrainingTimesLastYear**: Number of training days in 2015.\n",
    "- **YearsAtCompany**: Seniority in the company.\n",
    "- **YearsSinceLastPromotion**: Number of years since the last individual salary raise.\n",
    "- **YearsWithCurrentManager**: Number of years the employee has worked under their current manager’s responsibility.\n"
   ]
  },
  {
   "cell_type": "markdown",
   "id": "5c169c6c-2c20-467f-ab05-ddaefe1c6b8e",
   "metadata": {},
   "source": [
    "need to be change\n",
    "\n",
    "<p> Over18\n",
    "<p> StandardHours"
   ]
  },
  {
   "cell_type": "code",
   "execution_count": null,
   "id": "b4a15f14-5a71-47c7-b44c-12a538f1d6ee",
   "metadata": {},
   "outputs": [],
   "source": []
  },
  {
   "cell_type": "code",
   "execution_count": 7,
   "id": "85aed309-be9b-4801-b566-3259972788d9",
   "metadata": {},
   "outputs": [
    {
     "ename": "NameError",
     "evalue": "name 'general_data' is not defined",
     "output_type": "error",
     "traceback": [
      "\u001b[1;31m---------------------------------------------------------------------------\u001b[0m",
      "\u001b[1;31mNameError\u001b[0m                                 Traceback (most recent call last)",
      "Cell \u001b[1;32mIn[7], line 1\u001b[0m\n\u001b[1;32m----> 1\u001b[0m general_data\n",
      "\u001b[1;31mNameError\u001b[0m: name 'general_data' is not defined"
     ]
    }
   ],
   "source": [
    "general_data"
   ]
  },
  {
   "cell_type": "code",
   "execution_count": null,
   "id": "75fa556f-6c64-44f6-8e75-407bb905d4fa",
   "metadata": {},
   "outputs": [],
   "source": [
    "manager_survey_data.info()"
   ]
  },
  {
   "cell_type": "code",
   "execution_count": null,
   "id": "2d452888-3502-48dc-9adb-3162de776993",
   "metadata": {},
   "outputs": [],
   "source": [
    " 1   Attrition                4410 non-null   object \n",
    " 2   BusinessTravel           4410 non-null   object \n",
    " 3   Department               4410 non-null   object \n",
    " 6   EducationField           4410 non-null   object\n",
    " 9   Gender                   4410 non-null   object \n",
    " 11  JobRole                  4410 non-null   object \n",
    " 12  MaritalStatus            4410 non-null   object \n",
    " 15  Over18                   4410 non-null   object   "
   ]
  },
  {
   "cell_type": "code",
   "execution_count": null,
   "id": "5322fb4d-5aff-42bd-a1b0-1898eb94c23c",
   "metadata": {},
   "outputs": [],
   "source": [
    " 1   Attrition                4410 non-null   object \n",
    " 2   BusinessTravel           4410 non-null   object \n",
    "\n",
    "\n",
    " 3   Department               4410 non-null   object \n",
    " 6   EducationField           4410 non-null   object\n",
    " 11  JobRole                  4410 non-null   object "
   ]
  },
  {
   "cell_type": "code",
   "execution_count": null,
   "id": "aea82b2a-fb4e-467f-9939-3e090dd13238",
   "metadata": {},
   "outputs": [],
   "source": [
    "print([i for i in general_data.columns if general_data[i].nunique()==1 ])\n",
    "    "
   ]
  },
  {
   "cell_type": "code",
   "execution_count": null,
   "id": "be9e9edb-5ed6-4367-945d-40c060938202",
   "metadata": {},
   "outputs": [],
   "source": [
    "matrix_general_data = general_data_encoded.corr(numeric_only = True)\n",
    "for i in general_data_encoded.columns:\n",
    "    print(matrix_general_data[i])"
   ]
  },
  {
   "cell_type": "code",
   "execution_count": null,
   "id": "e52fe491-0bf2-4acf-adb1-7a9c96ebd52e",
   "metadata": {},
   "outputs": [],
   "source": [
    "general_data[\"EducationField\"].value_counts()"
   ]
  },
  {
   "cell_type": "markdown",
   "id": "e84b8e78-a216-4def-a4bd-a5b33a407b81",
   "metadata": {},
   "source": [
    "# Data that don't need to be taken acount :"
   ]
  },
  {
   "cell_type": "markdown",
   "id": "153f01d2-caa2-463f-a0fc-b5886320469c",
   "metadata": {},
   "source": [
    "## For Optimization and Relevant Data\n",
    "\n",
    "- **EmployeeCount**: This column has only one unique value (`1`), meaning it doesn’t provide any useful variation. Since it is constant for all employees, it can be removed to optimize the dataset.  \n",
    "- **Over18**: Since all employees are over 18 years old (`Yes` for everyone), this column does not provide any distinguishing information. Removing it helps avoid redundant data.  \n",
    "- **StandardHours**: The standard working hours for all employees in their contracts are fixed at **8 hours**. Since there is no variation, this column does not contribute to any meaningful analysis and can be dropped for efficiency.  \n",
    "\n",
    "## For Ethical Issues\n",
    "\n",
    "- **Gender**: Including gender in the analysis could introduce **bias in decision-making**. Since an employee’s gender does not determine their performance, attrition, or job satisfaction, it is best to remove this column to ensure **fairness and avoid discrimination**.  \n",
    "- **MaritalStatus**: Personal information such as marital status should not influence professional evaluations. Keeping this data could lead to **biased assumptions** about employees' work-life balance, commitment, or performance. Removing it promotes **equal treatment** of all employees, regardless of their personal situation.  \n",
    "\n"
   ]
  },
  {
   "cell_type": "code",
   "execution_count": null,
   "id": "1a635a5a-a7bb-4d24-a9ea-cab3cb2fa488",
   "metadata": {},
   "outputs": [],
   "source": [
    "columns_to_drop = [\"EmployeeCount\", \"Over18\", \"StandardHours\", \"Gender\", \"MaritalStatus\"]\n",
    "\n",
    "existing_columns = [col for col in columns_to_drop if col in general_data.columns]\n",
    "\n",
    "if existing_columns:\n",
    "    general_data = general_data.drop(columns=existing_columns)\n",
    "    print(f\"Dropped columns: {existing_columns}\")\n",
    "else:\n",
    "    print(\"No columns were dropped. They were not found or already deleted\")\n",
    "\n",
    "general_data"
   ]
  },
  {
   "cell_type": "code",
   "execution_count": null,
   "id": "44c9cd9e-6cae-4537-9971-3e714b2bda09",
   "metadata": {},
   "outputs": [],
   "source": [
    "general_data[\"StandardHours\"].nunique()"
   ]
  },
  {
   "cell_type": "code",
   "execution_count": null,
   "id": "c6ac4f0f-be30-45ca-8185-dc2c1e0604e0",
   "metadata": {},
   "outputs": [],
   "source": [
    "from sklearn.preprocessing import OrdinalEncoder \n",
    "ordinal_encoder = OrdinalEncoder()\n",
    "\n",
    "general_data_attrition =general_data[[\"Attrition\"]]\n",
    "general_data_attrition = ordinal_encoder.fit_transform(general_data_attrition)\n",
    "ordinal_encoder = OrdinalEncoder(categories=[[\"No\", \"Yes\"]])\n",
    "general_data[\"Attrition\"] = general_data_attrition"
   ]
  },
  {
   "cell_type": "code",
   "execution_count": null,
   "id": "9026fa23-b77e-4114-b810-5f60e9555dbb",
   "metadata": {},
   "outputs": [],
   "source": [
    "general_data_at = general_data_encoded[[\"JobRole\"]]\n",
    "general_data_at.head(10)"
   ]
  },
  {
   "cell_type": "code",
   "execution_count": null,
   "id": "5956deef-c530-4849-afd5-504678e21d97",
   "metadata": {},
   "outputs": [],
   "source": [
    "general_data_at.value_counts()"
   ]
  },
  {
   "cell_type": "code",
   "execution_count": null,
   "id": "de7550df-ba70-4dd1-a282-e9b37200872b",
   "metadata": {},
   "outputs": [],
   "source": [
    "general_data_at = general_data[[\"Department\"]] "
   ]
  },
  {
   "cell_type": "code",
   "execution_count": null,
   "id": "7b512e33-7c3a-4892-9221-37df277e49bc",
   "metadata": {},
   "outputs": [],
   "source": [
    "categorical_department = general_data[\"BusinessTravel\"].unique().tolist()\n",
    "categorical_department"
   ]
  },
  {
   "cell_type": "code",
   "execution_count": null,
   "id": "4bc2e40d-646d-487b-8195-a608d96320d6",
   "metadata": {},
   "outputs": [],
   "source": [
    "from sklearn.preprocessing import OrdinalEncoder, OneHotEncoder\n",
    "import pandas as pd\n",
    "\n",
    "\n",
    "### 🔹 Ordinal Encoding (For Ordered Categories)\n",
    "ordinal_mappings = {\n",
    "    \"Attrition\": [[\"No\", \"Yes\"]],\n",
    "    \"BusinessTravel\": [[\"Non-Travel\", \"Travel_Rarely\", \"Travel_Frequently\"]]\n",
    "}\n",
    "\n",
    "# Apply Ordinal Encoding\n",
    "for col, categories in ordinal_mappings.items():\n",
    "    encoder = OrdinalEncoder(categories=categories)\n",
    "    general_data[col] = encoder.fit_transform(general_data[[col]])\n",
    "\n",
    "### 🔹 OneHot Encoding (For Categorical Variables)\n",
    "categorical_columns = [\"Department\", \"EducationField\", \"JobRole\"]\n",
    "\n",
    "# ✅ Use sparse_output=False instead of sparse=False\n",
    "onehot_encoder = OneHotEncoder(sparse_output=False, drop=\"first\")  # drop='first' avoids collinearity\n",
    "\n",
    "# Fit and transform categorical columns\n",
    "encoded_array = onehot_encoder.fit_transform(general_data[categorical_columns])\n",
    "\n",
    "# Convert encoded array into a DataFrame\n",
    "encoded_df = pd.DataFrame(encoded_array, columns=onehot_encoder.get_feature_names_out(categorical_columns))\n",
    "\n",
    "# Merge with the original dataset (Dropping old categorical columns)\n",
    "general_data_encoded = pd.concat([general_data.drop(columns=categorical_columns), encoded_df], axis=1)\n",
    "\n",
    "### ✅ Display first few rows\n",
    "print(general_data_encoded.head())\n",
    "\n",
    "### ✅ Save Encoded Data (Optional)\n",
    "# general_data_encoded.to_csv(\"data/general_data_encoded.csv\", index=False)\n"
   ]
  },
  {
   "cell_type": "code",
   "execution_count": null,
   "id": "89cb3cb2-a3cd-41d0-82d3-f8eaf333b969",
   "metadata": {},
   "outputs": [],
   "source": [
    "general_data_encoded.columns"
   ]
  },
  {
   "cell_type": "code",
   "execution_count": null,
   "id": "28e892e8-93f7-4ceb-80d3-b3242c5893e9",
   "metadata": {},
   "outputs": [],
   "source": [
    "general_data"
   ]
  },
  {
   "cell_type": "code",
   "execution_count": null,
   "id": "e17aae69-9537-4b47-a2cf-7cc79cdb9686",
   "metadata": {},
   "outputs": [],
   "source": [
    "general_data_encoded.to_csv('encoded.csv', index=False)  "
   ]
  },
  {
   "cell_type": "code",
   "execution_count": null,
   "id": "261085c5-1ad7-46f4-b739-00152818c731",
   "metadata": {},
   "outputs": [],
   "source": [
    "categorical_columns = [\"Department\",\"EducationField\",\"JobRole\"]\n",
    "categorical_department = general_data[\"Department\"].unique().tolist()\n",
    "categorical_education_field = general_data[\"EducationField\"].unique().tolist()\n",
    "categorical_job_role = general_data[\"JobRole\"].unique().tolist()\n",
    "\n"
   ]
  },
  {
   "cell_type": "code",
   "execution_count": null,
   "id": "767d4088-493a-4f37-a619-ac60cfdeb263",
   "metadata": {},
   "outputs": [],
   "source": [
    "categorical_department"
   ]
  },
  {
   "cell_type": "code",
   "execution_count": null,
   "id": "67ee6d2d-1730-4cf7-ab15-382aa815d4c4",
   "metadata": {},
   "outputs": [],
   "source": [
    "categorical_job_role"
   ]
  },
  {
   "cell_type": "code",
   "execution_count": null,
   "id": "cf5251dd-cd98-4687-b1e2-c7e5f18fbb80",
   "metadata": {},
   "outputs": [],
   "source": [
    "general_data[\"JobRole\"]"
   ]
  },
  {
   "cell_type": "code",
   "execution_count": null,
   "id": "faad1657-d3bc-433a-aac9-3f855363cf0a",
   "metadata": {},
   "outputs": [],
   "source": [
    "ordinal_encoder.categories_"
   ]
  },
  {
   "cell_type": "code",
   "execution_count": null,
   "id": "3c22bd68-7931-4246-9438-7f745b35d211",
   "metadata": {},
   "outputs": [],
   "source": [
    "general_data_at = general_data[[\"BusinessTravel\"]] \n",
    "general_data_at.head(10)"
   ]
  },
  {
   "cell_type": "markdown",
   "id": "72f4f814",
   "metadata": {},
   "source": [
    "## 3.2 Data Last assessment provided by the manager"
   ]
  },
  {
   "cell_type": "markdown",
   "id": "dbb90ea5",
   "metadata": {},
   "source": [
    "- **EmployeeID**: Employee identifier.\n",
    "- **JobInvolvement**: An assessment of the employee’s involvement in their job, graded:  \n",
    "  1 = Poor  \n",
    "  2 = Average  \n",
    "  3 = Significant  \n",
    "  4 = Very significant\n",
    "- **PerformanceRating**: An assessment of the employee’s annual performance level for the company, graded:  \n",
    "  1 = Poor  \n",
    "  2 = Good  \n",
    "  3 = Excellent  \n",
    "  4 = Beyond expectations\n"
   ]
  },
  {
   "cell_type": "markdown",
   "id": "30d2d635",
   "metadata": {},
   "source": [
    "## 3.3 Data Survey on the quality of life at work"
   ]
  },
  {
   "cell_type": "markdown",
   "id": "55761e4a",
   "metadata": {},
   "source": [
    "- **EnvironmentSatisfaction**: The work environment, graded:  \n",
    "  1 = Low  \n",
    "  2 = Medium  \n",
    "  3 = High  \n",
    "  4 = Very high\n",
    "- **JobSatisfaction**: Satisfaction with their job, graded from 1 to 4 as above.\n",
    "- **WorkLifeBalance**: Their work/private life balance, graded:  \n",
    "  1 = Bad  \n",
    "  2 = Satisfactory  \n",
    "  3 = Very satisfactory  \n",
    "  4 = Excellent\n"
   ]
  },
  {
   "cell_type": "markdown",
   "id": "835c6977",
   "metadata": {},
   "source": [
    "## 3.4 Data Working hours"
   ]
  },
  {
   "cell_type": "code",
   "execution_count": null,
   "id": "5d857345",
   "metadata": {},
   "outputs": [],
   "source": [
    "#Library instalattion\n",
    "\n",
    "!pip install numpy\n",
    "!pip install pandas\n",
    "!pip install matplotlib\n",
    "!pip install scikit-learn"
   ]
  },
  {
   "cell_type": "code",
   "execution_count": null,
   "id": "14f567d6",
   "metadata": {},
   "outputs": [],
   "source": [
    "#Library importation\n",
    "\n",
    "import numpy as np\n",
    "import pandas as pd\n",
    "import matplotlib as plt"
   ]
  },
  {
   "cell_type": "code",
   "execution_count": null,
   "id": "f0fa3514",
   "metadata": {},
   "outputs": [],
   "source": [
    "general_data = pd.read_csv('data/general_data.csv')\n",
    "\n",
    "#Last assessment provided by the manager\n",
    "manager_survey_data = pd.read_csv('data/manager_survey_data.csv')\n",
    "\n",
    "#Survey on the quality of life at work\n",
    "employee_survey_data = pd.read_csv('data/employee_survey_data.csv')\n",
    "\n",
    "#Working hours\n",
    "out_time_data = pd.read_csv('data/out_time.csv')\n",
    "in_time_data = pd.read_csv('data/in_time.csv')\n"
   ]
  },
  {
   "cell_type": "code",
   "execution_count": null,
   "id": "b178785e",
   "metadata": {},
   "outputs": [],
   "source": [
    "general_data"
   ]
  },
  {
   "cell_type": "code",
   "execution_count": null,
   "id": "02890e34",
   "metadata": {},
   "outputs": [],
   "source": [
    "column_names = manager_survey_data.columns\n",
    "column_names"
   ]
  },
  {
   "cell_type": "code",
   "execution_count": null,
   "id": "24e8a4b0",
   "metadata": {},
   "outputs": [],
   "source": [
    "cleaned_general_data = general_data.dropna()\n",
    "\n",
    "#Last assessment provided by the manager\n",
    "cleaned_manager_survey_data = manager_survey_data.dropna()\n",
    "\n",
    "#Survey on the quality of life at work\n",
    "cleaned_employee_survey_data = employee_survey_data.dropna()\n",
    "\n",
    "#Working hours\n",
    "cleaned_out_time_data = out_time_data.dropna()\n",
    "cleaned_in_time_data = in_time_data.dropna()"
   ]
  },
  {
   "cell_type": "code",
   "execution_count": null,
   "id": "dc3c2e0e",
   "metadata": {},
   "outputs": [],
   "source": [
    "print(f\"general_data loss\",general_data.shape[0] - cleaned_general_data.shape[0],\"row\", round((general_data.shape[0] - cleaned_general_data.shape[0])/general_data.shape[0],4)*100,\"%\")\n",
    "print(f\"manager_survey_data loss\",manager_survey_data.shape[0] - cleaned_manager_survey_data.shape[0],\"row\", round((manager_survey_data.shape[0] - cleaned_manager_survey_data.shape[0])/manager_survey_data.shape[0],4)*100,\"%\")\n",
    "print(f\"employee_survey_data loss\",employee_survey_data.shape[0] - cleaned_employee_survey_data.shape[0],\"row\", round((employee_survey_data.shape[0] - cleaned_employee_survey_data.shape[0])/employee_survey_data.shape[0],5)*100,\"%\")"
   ]
  },
  {
   "cell_type": "code",
   "execution_count": null,
   "id": "d0d08b92",
   "metadata": {},
   "outputs": [],
   "source": []
  },
  {
   "cell_type": "code",
   "execution_count": null,
   "id": "6052eecb",
   "metadata": {},
   "outputs": [],
   "source": [
    "general_data.info()"
   ]
  },
  {
   "cell_type": "code",
   "execution_count": null,
   "id": "7c8cdcfe-a1f1-4be8-874a-0df83c90dd78",
   "metadata": {},
   "outputs": [],
   "source": [
    " 1   Attrition                4410 non-null   object \n",
    " 2   BusinessTravel           4410 non-null   object \n",
    " 3   Department               4410 non-null   object \n",
    " 6   EducationField           4410 non-null   object\n",
    " 9   Gender                   4410 non-null   object \n",
    " 11  JobRole                  4410 non-null   object \n",
    " 12  MaritalStatus            4410 non-null   object \n",
    " 15  Over18                   4410 non-null   object \n"
   ]
  },
  {
   "cell_type": "code",
   "execution_count": null,
   "id": "8b43b5ab-a1cc-4f25-81b1-23fb02bdf280",
   "metadata": {},
   "outputs": [],
   "source": [
    "manager_survey_data"
   ]
  },
  {
   "cell_type": "code",
   "execution_count": null,
   "id": "d38a33e5",
   "metadata": {},
   "outputs": [],
   "source": [
    "manager_survey_data.info()"
   ]
  },
  {
   "cell_type": "code",
   "execution_count": null,
   "id": "80de3087-c5fd-4a31-afbe-c36015a24e67",
   "metadata": {},
   "outputs": [],
   "source": []
  },
  {
   "cell_type": "code",
   "execution_count": null,
   "id": "50e60a3c-0c4e-457f-8477-32b02bef983b",
   "metadata": {},
   "outputs": [],
   "source": [
    "employee_survey_data.info()"
   ]
  },
  {
   "cell_type": "code",
   "execution_count": null,
   "id": "158f5b6b-89b3-47bc-9532-240e3dfef2e1",
   "metadata": {},
   "outputs": [],
   "source": []
  },
  {
   "cell_type": "code",
   "execution_count": null,
   "id": "20646161",
   "metadata": {},
   "outputs": [],
   "source": [
    "merged_general_survey = pd.merge(general_data, manager_survey_data, on=\"EmployeeID\", how=\"inner\")"
   ]
  },
  {
   "cell_type": "code",
   "execution_count": null,
   "id": "f3d6d225",
   "metadata": {},
   "outputs": [],
   "source": [
    "merged_general_survey.info()"
   ]
  },
  {
   "cell_type": "code",
   "execution_count": null,
   "id": "3a3deba6",
   "metadata": {},
   "outputs": [],
   "source": [
    "general_data.hist(bins=50, figsize=(16, 10))"
   ]
  },
  {
   "cell_type": "code",
   "execution_count": null,
   "id": "1105063e-b73c-4607-ab1c-a3303802056f",
   "metadata": {},
   "outputs": [],
   "source": []
  },
  {
   "cell_type": "code",
   "execution_count": null,
   "id": "25618556-dbdd-4f1c-8aa5-38fd70825a54",
   "metadata": {},
   "outputs": [],
   "source": [
    "in_time_data"
   ]
  },
  {
   "cell_type": "code",
   "execution_count": null,
   "id": "3d1c4a81-c25e-4521-92b8-d95c900c5896",
   "metadata": {
    "scrolled": true
   },
   "outputs": [],
   "source": [
    "out_time_data"
   ]
  },
  {
   "cell_type": "code",
   "execution_count": null,
   "id": "3c0311b0-d4e2-4774-8d1c-3554a8a8a5e3",
   "metadata": {},
   "outputs": [],
   "source": [
    "general_data[\"TotalWorkingYears\"].median()"
   ]
  },
  {
   "cell_type": "code",
   "execution_count": null,
   "id": "082e14bc-e2ff-4895-ad9a-49bcd84cf04c",
   "metadata": {},
   "outputs": [],
   "source": [
    "general_data[\"TotalWorkingYears\"].mean()"
   ]
  },
  {
   "cell_type": "code",
   "execution_count": null,
   "id": "876b4fdf-a9b6-4837-aed7-6b8da191ba3b",
   "metadata": {},
   "outputs": [],
   "source": [
    "general_data[\"TotalWorkingYears\"]"
   ]
  },
  {
   "cell_type": "code",
   "execution_count": null,
   "id": "e6b95a0e-f549-4c34-845c-a402f6c6ab0a",
   "metadata": {},
   "outputs": [],
   "source": [
    "general_data"
   ]
  },
  {
   "cell_type": "code",
   "execution_count": null,
   "id": "c7f1a884-8111-4388-9ecb-8d228cec526f",
   "metadata": {},
   "outputs": [],
   "source": []
  },
  {
   "cell_type": "code",
   "execution_count": null,
   "id": "df8ad45b-b6e0-42a1-8fe8-c394b57b0cd7",
   "metadata": {},
   "outputs": [],
   "source": [
    "general_data.info()"
   ]
  },
  {
   "cell_type": "code",
   "execution_count": null,
   "id": "336a68ae-6dc6-434f-a809-b6cc4e7a83e4",
   "metadata": {},
   "outputs": [],
   "source": [
    "matrix_general_data = general_data.corr(numeric_only = True)\n",
    "matrix_general_data[\"TotalWorkingYears\"]"
   ]
  },
  {
   "cell_type": "code",
   "execution_count": null,
   "id": "4b42bb7b-e700-46f1-96c1-7051b3c10215",
   "metadata": {},
   "outputs": [],
   "source": [
    "general_data"
   ]
  },
  {
   "cell_type": "code",
   "execution_count": null,
   "id": "7bbde6b0-051c-4476-9120-75c055dd55eb",
   "metadata": {},
   "outputs": [],
   "source": [
    "matrix_general_data = general_data.corr(numeric_only = True)\n",
    "matrix_general_data[\"Attrition\"]\n"
   ]
  },
  {
   "cell_type": "code",
   "execution_count": null,
   "id": "50034b4b-1a91-4cc1-b6ab-1c2c6ebd39bc",
   "metadata": {},
   "outputs": [],
   "source": []
  },
  {
   "cell_type": "code",
   "execution_count": null,
   "id": "8807f7bc-46ac-4984-a950-41a035e61ef6",
   "metadata": {},
   "outputs": [],
   "source": [
    "import pandas as pd\n",
    "import numpy as np\n",
    "import matplotlib.pyplot as plt\n",
    "from sklearn.linear_model import LinearRegression\n",
    "from sklearn.model_selection import train_test_split\n",
    "from sklearn.metrics import mean_squared_error, r2_score\n",
    "\n",
    "# Supposons que general_data est déjà un DataFrame\n",
    "\n",
    "\n",
    "X = cleaned_general_data[[\"Age\"]]  # X doit être un DataFrame (2D)\n",
    "y = cleaned_general_data[\"TotalWorkingYears\"]  # y est une série (1D)\n",
    "\n",
    "X_train, X_test, y_train, y_test = train_test_split(X, y, test_size=0.2, random_state=42)\n",
    "\n",
    "model = LinearRegression()\n",
    "model.fit(X_train, y_train)\n",
    "y_pred = model.predict(X_test)\n",
    "\n",
    "mse = mean_squared_error(y_test, y_pred)\n",
    "r2 = r2_score(y_test, y_pred)\n",
    "\n",
    "print(f\"Mean Squared Error: {mse:.2f}\")\n",
    "print(f\"R² Score: {r2:.2f}\")\n",
    "\n",
    "plt.scatter(X_test, y_test, color=\"blue\", label=\"Données réelles\")\n",
    "plt.plot(X_test, y_pred, color=\"red\", linewidth=2, label=\"Prédiction\")\n",
    "plt.xlabel(\"Age\")\n",
    "plt.ylabel(\"Total Working Years\")\n",
    "plt.legend()\n",
    "plt.title(\"Régression linéaire: TotalWorkingYears vs Age\")\n",
    "plt.show()\n"
   ]
  },
  {
   "cell_type": "code",
   "execution_count": null,
   "id": "196de530-d21b-4aae-800b-7d1d0d69801a",
   "metadata": {},
   "outputs": [],
   "source": [
    "age_input = np.array([[40]]) \n",
    "predicted_working_years = model.predict(age_input)\n",
    "print(f\"Predicted Total Working Years for Age 30: {round(predicted_working_years[0])}\")\n"
   ]
  },
  {
   "cell_type": "code",
   "execution_count": null,
   "id": "77186d64-2be6-4216-a13a-cc4e76aec9de",
   "metadata": {},
   "outputs": [],
   "source": []
  },
  {
   "cell_type": "code",
   "execution_count": null,
   "id": "38daf13b-9e67-427c-807d-b91da5e68a60",
   "metadata": {},
   "outputs": [],
   "source": []
  },
  {
   "cell_type": "code",
   "execution_count": null,
   "id": "287498d8-474f-4e08-ab45-4904a4509660",
   "metadata": {},
   "outputs": [],
   "source": [
    "manager_survey_data.info()"
   ]
  },
  {
   "cell_type": "code",
   "execution_count": null,
   "id": "18dae42c-1883-41bb-aeb5-cc5ae5b0f6a4",
   "metadata": {},
   "outputs": [],
   "source": [
    "employee_survey_data.info()"
   ]
  },
  {
   "cell_type": "code",
   "execution_count": null,
   "id": "72c95b0d-db1c-426e-857f-005f4de1b16d",
   "metadata": {},
   "outputs": [],
   "source": []
  },
  {
   "cell_type": "code",
   "execution_count": null,
   "id": "4b6d47d5-1e3b-4080-816b-1e1f3e608693",
   "metadata": {},
   "outputs": [],
   "source": [
    "cleaned_out_time_data = out_time_data.dropna(axis=1,how='all')\n",
    "cleaned_in_time_data = in_time_data.dropna(axis=1, how='all')\n",
    "\n",
    "print(cleaned_in_time_data.shape,\"in time;\",cleaned_out_time_data.shape,\"out time;\")"
   ]
  },
  {
   "cell_type": "code",
   "execution_count": null,
   "id": "21b19ced-0e12-45d2-be1d-b3862f475443",
   "metadata": {},
   "outputs": [],
   "source": [
    "cleaned_in_time_data"
   ]
  },
  {
   "cell_type": "code",
   "execution_count": null,
   "id": "81bf5ebb-4d20-4e50-9be5-75ef484b6d1f",
   "metadata": {},
   "outputs": [],
   "source": []
  },
  {
   "cell_type": "code",
   "execution_count": null,
   "id": "f21972c2-6d18-456b-8053-718c2f48e587",
   "metadata": {},
   "outputs": [],
   "source": [
    "from pandas.plotting import scatter_matrix \n",
    "\n",
    "attributes = [\"median_house_value\", \"median_income\", \"total_rooms\", \"housing_median_age\"] \n",
    "scatter_matrix(general_data[general_data.columns], figsize=(30, 15)) \n"
   ]
  },
  {
   "cell_type": "code",
   "execution_count": null,
   "id": "2ddf1733-df6a-4505-88e4-69f0853461a0",
   "metadata": {},
   "outputs": [],
   "source": [
    "general_data.columns"
   ]
  },
  {
   "cell_type": "code",
   "execution_count": null,
   "id": "e8d7b655-3387-46d9-a4fe-48e3056fd82e",
   "metadata": {},
   "outputs": [],
   "source": [
    "sample_incomplete_rows = general_data[general_data.isnull().any(axis=1)].head() \n",
    "sample_incomplete_rows"
   ]
  },
  {
   "cell_type": "code",
   "execution_count": null,
   "id": "0d138f31-8cb8-4b09-a345-3f127578ee35",
   "metadata": {},
   "outputs": [],
   "source": []
  },
  {
   "cell_type": "code",
   "execution_count": null,
   "id": "057b16dd-36be-4642-94e2-3fdb721390b7",
   "metadata": {},
   "outputs": [],
   "source": [
    "from sklearn.preprocessing import OrdinalEncoder \n",
    "\n",
    "ordinal_encoder = OrdinalEncoder() \n",
    "housing_cat_encoded = ordinal_encoder.fit_transform(housing_cat) \n",
    "housing_cat_encoded[:10]"
   ]
  },
  {
   "cell_type": "code",
   "execution_count": null,
   "id": "2bf75a39-6280-4e70-bd64-146df6b66d0f",
   "metadata": {},
   "outputs": [],
   "source": [
    "ordinal_encoder.categories_"
   ]
  },
  {
   "cell_type": "code",
   "execution_count": null,
   "id": "a4410cd0-64dc-485b-9aae-6f74ee6c7657",
   "metadata": {},
   "outputs": [],
   "source": []
  },
  {
   "cell_type": "code",
   "execution_count": null,
   "id": "602db0c1-295a-480a-9428-437daae9ba90",
   "metadata": {},
   "outputs": [],
   "source": [
    "from sklearn.preprocessing import OneHotEncoder"
   ]
  },
  {
   "cell_type": "code",
   "execution_count": null,
   "id": "1c3e9ebc-9541-47ec-8d2a-c4415d8db3cd",
   "metadata": {},
   "outputs": [],
   "source": [
    "# "
   ]
  },
  {
   "cell_type": "markdown",
   "id": "e6a3a26d-fd37-4efe-b694-9cfdc8ae12b1",
   "metadata": {},
   "source": [
    "# PREPROCESSING THE DATA IN IN_TIME_DATA AND OUT_TIME_DATA"
   ]
  },
  {
   "cell_type": "code",
   "execution_count": null,
   "id": "82bd891d-8992-43db-87e8-a345522bbf90",
   "metadata": {},
   "outputs": [],
   "source": []
  }
 ],
 "metadata": {
  "kernelspec": {
   "display_name": "Python [conda env:base] *",
   "language": "python",
   "name": "conda-base-py"
  },
  "language_info": {
   "codemirror_mode": {
    "name": "ipython",
    "version": 3
   },
   "file_extension": ".py",
   "mimetype": "text/x-python",
   "name": "python",
   "nbconvert_exporter": "python",
   "pygments_lexer": "ipython3",
   "version": "3.12.7"
  }
 },
 "nbformat": 4,
 "nbformat_minor": 5
}
